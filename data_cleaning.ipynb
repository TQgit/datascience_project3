{
 "cells": [
  {
   "cell_type": "markdown",
   "metadata": {},
   "source": [
    "This notebook is to import, clean and combine Saudia's aircraft configuration data and export it into a dataset"
   ]
  },
  {
   "cell_type": "code",
   "execution_count": 1,
   "metadata": {},
   "outputs": [],
   "source": [
    "# imports\n",
    "import numpy as np\n",
    "import pandas as pd\n",
    "import re"
   ]
  },
  {
   "cell_type": "code",
   "execution_count": 2,
   "metadata": {},
   "outputs": [],
   "source": [
    "a320 = pd.read_csv('Airbus A320-214.csv')\n",
    "a321 = pd.read_csv('Airbus A321.csv')\n",
    "a330 = pd.read_csv('Airbus A330-343.csv')\n",
    "b772 = pd.read_csv('Boeing B777-268ER.csv')\n",
    "b773 = pd.read_csv('Boeing B777-368ER.csv')\n",
    "b787 = pd.read_csv('Boeing B787-9.csv')"
   ]
  },
  {
   "cell_type": "code",
   "execution_count": 3,
   "metadata": {},
   "outputs": [],
   "source": [
    "# create a unified dataframe\n",
    "df = pd.concat([a320,a321,a330,b772,b773,b787], sort=False).reset_index(drop=True)"
   ]
  },
  {
   "cell_type": "code",
   "execution_count": 4,
   "metadata": {},
   "outputs": [
    {
     "name": "stderr",
     "output_type": "stream",
     "text": [
      "C:\\Users\\TQ\\Anaconda3\\lib\\site-packages\\ipykernel_launcher.py:3: SettingWithCopyWarning: \n",
      "A value is trying to be set on a copy of a slice from a DataFrame\n",
      "\n",
      "See the caveats in the documentation: http://pandas.pydata.org/pandas-docs/stable/indexing.html#indexing-view-versus-copy\n",
      "  This is separate from the ipykernel package so we can avoid doing imports until\n",
      "C:\\Users\\TQ\\Anaconda3\\lib\\site-packages\\ipykernel_launcher.py:4: SettingWithCopyWarning: \n",
      "A value is trying to be set on a copy of a slice from a DataFrame\n",
      "\n",
      "See the caveats in the documentation: http://pandas.pydata.org/pandas-docs/stable/indexing.html#indexing-view-versus-copy\n",
      "  after removing the cwd from sys.path.\n",
      "C:\\Users\\TQ\\Anaconda3\\lib\\site-packages\\ipykernel_launcher.py:5: SettingWithCopyWarning: \n",
      "A value is trying to be set on a copy of a slice from a DataFrame\n",
      "\n",
      "See the caveats in the documentation: http://pandas.pydata.org/pandas-docs/stable/indexing.html#indexing-view-versus-copy\n",
      "  \"\"\"\n"
     ]
    }
   ],
   "source": [
    "# move 'has_wifi_connectivity' column values to 'has_wifi' and drop extras\n",
    "df['saudia_first_suite_has_wi_fi'] = df.saudia_first_suite_has_wi_fi_connectivity\n",
    "df['economy_class_has_wi_fi'][df['economy_class_has_wi_fi_connectivity'] == True] = True\n",
    "df['business_class_has_wi_fi'][df['business_class_has_wi_fi_connectivity'] == True] = True\n",
    "df['first_class_has_wi_fi'][df['first_class_has_wi_fi_connectivity'] == True] = True\n",
    "df.drop(['saudia_first_suite_has_wi_fi_connectivity','economy_class_has_wi_fi_connectivity','business_class_has_wi_fi_connectivity','first_class_has_wi_fi_connectivity'], axis=1, inplace=True)"
   ]
  },
  {
   "cell_type": "code",
   "execution_count": 5,
   "metadata": {},
   "outputs": [],
   "source": [
    "# fill boolean column NANs with false\n",
    "bool_cols = df.columns[df.columns.str.contains('_has_')]\n",
    "df[bool_cols] = df[bool_cols].fillna(False)"
   ]
  },
  {
   "cell_type": "code",
   "execution_count": 6,
   "metadata": {},
   "outputs": [],
   "source": [
    "# fill other NANs with 'class not offered'\n",
    "df.fillna('class not offered', inplace=True)"
   ]
  },
  {
   "cell_type": "code",
   "execution_count": 7,
   "metadata": {},
   "outputs": [
    {
     "name": "stderr",
     "output_type": "stream",
     "text": [
      "C:\\Users\\TQ\\Anaconda3\\lib\\site-packages\\pandas\\core\\indexing.py:190: SettingWithCopyWarning: \n",
      "A value is trying to be set on a copy of a slice from a DataFrame\n",
      "\n",
      "See the caveats in the documentation: http://pandas.pydata.org/pandas-docs/stable/indexing.html#indexing-view-versus-copy\n",
      "  self._setitem_with_indexer(indexer, value)\n"
     ]
    }
   ],
   "source": [
    "# extract int values from columns and fix 787 values\n",
    "df.rename(columns={'length':'length_in_m'}, inplace=True)\n",
    "df.length_in_m = df.length_in_m.apply(lambda x:re.search(r'([\\d\\.]+) m', x).group(1).replace('.', '')).astype('int64')\n",
    "df.length_in_m.iloc[15] = df.length_in_m.iloc[15]*10"
   ]
  },
  {
   "cell_type": "code",
   "execution_count": 8,
   "metadata": {},
   "outputs": [],
   "source": [
    "df.rename(columns={'wingspan':'wingspan_in_m'}, inplace=True)\n",
    "df.wingspan_in_m = df.wingspan_in_m.apply(lambda x:re.search(r'([\\d\\.]+) m', x).group(1).replace('.', '')).astype('int64')\n",
    "df.wingspan_in_m.iloc[15] = df.wingspan_in_m.iloc[15]*10"
   ]
  },
  {
   "cell_type": "code",
   "execution_count": 9,
   "metadata": {},
   "outputs": [],
   "source": [
    "df.rename(columns={'range':'range_in_km'}, inplace=True)\n",
    "df.range_in_km = df.range_in_km.apply(lambda x:re.search(r'([\\d\\.,-]+) km', x).group(1).replace(',', '').replace('.', ''))\n",
    "b787_range = df.loc[15,'range_in_km'].split('-')\n",
    "b787_range = int((int(b787_range[0]) + int(b787_range[1]))/len(b787_range))\n",
    "df.loc[15,'range_in_km'] = b787_range\n",
    "df.range_in_km = df.range_in_km.astype('int64')"
   ]
  },
  {
   "cell_type": "code",
   "execution_count": 10,
   "metadata": {},
   "outputs": [],
   "source": [
    "df.rename(columns={'maximum_cruising_altitude':'maximum_cruising_altitude_in_ft'}, inplace=True)\n",
    "df.maximum_cruising_altitude_in_ft = df.maximum_cruising_altitude_in_ft.apply(lambda x:re.search(r'([\\d\\.,-]+) ft', x).group(1).replace(',', '').replace('.', ''))\n",
    "aceo_maxalt = df.loc[0,'maximum_cruising_altitude_in_ft'].split('-')\n",
    "aceo_maxalt = int((int(aceo_maxalt[0]) + int(aceo_maxalt[1]))/len(aceo_maxalt))\n",
    "df.loc[0,'maximum_cruising_altitude_in_ft'] = aceo_maxalt\n",
    "df.maximum_cruising_altitude_in_ft = df.maximum_cruising_altitude_in_ft.astype('int64')"
   ]
  },
  {
   "cell_type": "code",
   "execution_count": 11,
   "metadata": {},
   "outputs": [],
   "source": [
    "df.rename(columns={'cruising_speed':'cruising_speed_in_kmh'}, inplace=True)\n",
    "df.cruising_speed_in_kmh = df.cruising_speed_in_kmh.apply(lambda x:re.search(r'([\\d]+) km/h', x).group(1)).astype('int64')"
   ]
  },
  {
   "cell_type": "code",
   "execution_count": 12,
   "metadata": {},
   "outputs": [],
   "source": [
    "pitch_width_cols = df.columns[df.columns.str.contains('seat_pitch') | df.columns.str.contains('seat_width')]"
   ]
  },
  {
   "cell_type": "code",
   "execution_count": 13,
   "metadata": {},
   "outputs": [],
   "source": [
    "# fill in 772 1st class width pitch and abreast data from seatguru since data missing on saudia website\n",
    "df.first_class_seat_width.iloc[8] = '21'\n",
    "df.first_class_seat_pitch.iloc[8] = '79'\n",
    "df.first_class_abreast.iloc[8] = '2-2-2'"
   ]
  },
  {
   "cell_type": "code",
   "execution_count": 14,
   "metadata": {},
   "outputs": [],
   "source": [
    "for col in pitch_width_cols:\n",
    "    df[col] = df[col].apply(lambda x:re.search(r'([\\d\\.]+) in', x).group(1) if 'in' in x else x)\n",
    "    df.rename(columns={col:col+'_in_inches'}, inplace=True)"
   ]
  },
  {
   "cell_type": "code",
   "execution_count": 15,
   "metadata": {},
   "outputs": [],
   "source": [
    "# export as csv dataset\n",
    "df.to_csv('./datasets/saudia_aircraft_configs_data.csv', index=False)"
   ]
  }
 ],
 "metadata": {
  "kernelspec": {
   "display_name": "Python 3",
   "language": "python",
   "name": "python3"
  },
  "language_info": {
   "codemirror_mode": {
    "name": "ipython",
    "version": 3
   },
   "file_extension": ".py",
   "mimetype": "text/x-python",
   "name": "python",
   "nbconvert_exporter": "python",
   "pygments_lexer": "ipython3",
   "version": "3.6.8"
  }
 },
 "nbformat": 4,
 "nbformat_minor": 2
}
