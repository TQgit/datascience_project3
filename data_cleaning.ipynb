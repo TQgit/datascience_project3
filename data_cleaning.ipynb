{
 "cells": [
  {
   "cell_type": "markdown",
   "metadata": {},
   "source": [
    "This notebook is to import, clean and combine Saudia's aircraft configuration data and export it into a dataset"
   ]
  },
  {
   "cell_type": "code",
   "execution_count": 1,
   "metadata": {},
   "outputs": [],
   "source": [
    "# imports\n",
    "import numpy as np\n",
    "import pandas as pd\n",
    "import re"
   ]
  },
  {
   "cell_type": "code",
   "execution_count": 2,
   "metadata": {},
   "outputs": [],
   "source": [
    "a320 = pd.read_csv('Airbus A320-214.csv')\n",
    "a321 = pd.read_csv('Airbus A321.csv')\n",
    "a330 = pd.read_csv('Airbus A330-343.csv')\n",
    "b772 = pd.read_csv('Boeing B777-268ER.csv')\n",
    "b773 = pd.read_csv('Boeing B777-368ER.csv')\n",
    "b787 = pd.read_csv('Boeing B787-9.csv')"
   ]
  }
 ],
 "metadata": {
  "kernelspec": {
   "display_name": "Python 3",
   "language": "python",
   "name": "python3"
  },
  "language_info": {
   "codemirror_mode": {
    "name": "ipython",
    "version": 3
   },
   "file_extension": ".py",
   "mimetype": "text/x-python",
   "name": "python",
   "nbconvert_exporter": "python",
   "pygments_lexer": "ipython3",
   "version": "3.6.8"
  }
 },
 "nbformat": 4,
 "nbformat_minor": 2
}
