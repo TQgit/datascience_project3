{
 "cells": [
  {
   "cell_type": "code",
   "execution_count": 1,
   "metadata": {},
   "outputs": [],
   "source": [
    "# imports\n",
    "import re\n",
    "import requests\n",
    "import pandas as pd\n",
    "from scrapy import Selector"
   ]
  },
  {
   "cell_type": "code",
   "execution_count": 2,
   "metadata": {},
   "outputs": [],
   "source": [
    "# get first aircraft type info\n",
    "request = requests.get('https://www.saudia.com/experience/about-us/our-fleet/airbus-a320-214')"
   ]
  },
  {
   "cell_type": "code",
   "execution_count": 3,
   "metadata": {},
   "outputs": [
    {
     "data": {
      "text/plain": [
       "200"
      ]
     },
     "execution_count": 3,
     "metadata": {},
     "output_type": "execute_result"
    }
   ],
   "source": [
    "request.status_code"
   ]
  },
  {
   "cell_type": "code",
   "execution_count": 4,
   "metadata": {},
   "outputs": [],
   "source": [
    "# get html text\n",
    "html = request.text"
   ]
  },
  {
   "cell_type": "code",
   "execution_count": 5,
   "metadata": {},
   "outputs": [],
   "source": [
    "sel = Selector(text=html)"
   ]
  },
  {
   "cell_type": "code",
   "execution_count": 6,
   "metadata": {},
   "outputs": [
    {
     "data": {
      "text/plain": [
       "['AIRBUS A320CEO - (32N)',\n",
       " 'AIRBUS A320-214 (STANDARD CONFIGURATION) – (320)',\n",
       " 'AIRBUS A320-214 (BUSINESS CONFIGURATION) – (32E)',\n",
       " 'AIRBUS A320CEO - (RETROFIT CONFIGURATION) – (32U)']"
      ]
     },
     "execution_count": 6,
     "metadata": {},
     "output_type": "execute_result"
    }
   ],
   "source": [
    "# extract aircraft names\n",
    "titles = sel.xpath('//h3[@class=\"fs-1-3 vg-0--top\"]')[::3].xpath('.//text()').extract()\n",
    "titles"
   ]
  },
  {
   "cell_type": "code",
   "execution_count": 7,
   "metadata": {},
   "outputs": [],
   "source": [
    "# extract tables of interest (aircraft specs & seat specs)\n",
    "tables = sel.xpath('//table[@class=\"full styled\"]')"
   ]
  },
  {
   "cell_type": "code",
   "execution_count": 8,
   "metadata": {},
   "outputs": [],
   "source": [
    "# split tables by aircraft\n",
    "aircraft_tables = {}\n",
    "for i in range(len(titles)):\n",
    "    aircraft_tables[titles[i]] = tables[i*3:(i*3)+3]"
   ]
  },
  {
   "cell_type": "code",
   "execution_count": 9,
   "metadata": {},
   "outputs": [
    {
     "name": "stdout",
     "output_type": "stream",
     "text": [
      "True\n",
      "True\n",
      "True\n",
      "['Economy Class', 'Business Class']\n",
      "['Accommodation (144 seats)', 'Seat width/Pitch', 'ABREAST', 'Amenities']\n",
      "[['132 seats', '12 seats'], ['16.3 in - 18 in/ 30 in - 31 in', '21 in/ 45 in'], ['3-3', '2-2'], ['\\xa0', '\\xa0', '\\xa0', '\\xa0', '\\xa0', '\\xa0', '\\xa0', '\\xa0', '\\xa0', '\\xa0']]\n",
      "True\n",
      "True\n",
      "True\n",
      "['Economy Class', 'Business Class']\n",
      "['Accommodation (132 seats)', 'Seat width/Pitch', 'ABREAST', 'Amenities']\n",
      "[['120 seats', '12 seats'], ['17.17 in -18.33 in / 32 in -33 in', '21 in / 45 in'], ['3-3', '2-2'], ['\\xa0', '\\xa0', '\\xa0', '\\xa0']]\n",
      "True\n",
      "True\n",
      "True\n",
      "['Economy Class', 'Business Class']\n",
      "['Accommodation (116 seats)', 'Seat width/Pitch', 'ABREAST', 'Amenities']\n",
      "[['96 seats', '20 seats'], ['17.17 in - 18.33 in / 32 in', '21 in / 54 in'], ['3-3', '2-2'], ['\\xa0', '\\xa0', '\\xa0', '\\xa0', '\\xa0', '\\xa0']]\n",
      "True\n",
      "True\n",
      "True\n",
      "['Economy Class', 'Business Class']\n",
      "['Accommodation (110 seats)', 'Seat width/Pitch', 'ABREAST', 'Amenities']\n",
      "[['90 seats', '20 seats'], ['16.3 in - 18 in/ 31 in', '20 in/ 63 in'], ['3-3', '2-2'], ['\\xa0', '\\xa0', '\\xa0', '\\xa0', '\\xa0', '\\xa0', '\\xa0', '\\xa0', '\\xa0', '\\xa0']]\n"
     ]
    }
   ],
   "source": [
    "aircraft_data = {}\n",
    "for title in titles:\n",
    "    data = {}\n",
    "    tables = aircraft_tables[title]\n",
    "    for table in tables:\n",
    "        table_title = table.xpath('./caption/text()').extract_first()\n",
    "        if \"Aircraft Specifications\" in table_title:\n",
    "            headers = table.xpath('.//th/text()').extract()\n",
    "            datapoints = table.xpath('.//td/text()').extract()\n",
    "            print(len(headers) == len(datapoints))\n",
    "            for i in range(len(headers)):\n",
    "                data[headers[i]] = datapoints[i].strip()\n",
    "        else:\n",
    "            headers1 = table.xpath('.//th//text()').extract()[1:]\n",
    "            headers2 = []\n",
    "            datapoints = []\n",
    "            rows = table.xpath('./tbody//tr')\n",
    "            for row in rows:\n",
    "                longheader = row.xpath('.//td//text()').extract_first()\n",
    "                headers2.append(longheader)\n",
    "                if longheader != 'Amenities':\n",
    "                    datapoints.append(row.xpath('.//td//text()')[1:].extract())\n",
    "                else:\n",
    "                    datapoints.append(row.xpath('.//td//text()')[1:].extract())\n",
    "            for i in range(len(headers1)):\n",
    "                for j in range(len(headers2)):\n",
    "                    data[headers1[i]+\" \"+headers2[j]] = datapoints[j][i].strip()\n",
    "                \n",
    "            print(len(headers2) == len(datapoints))\n",
    "            print(headers1)\n",
    "            print(headers2)\n",
    "            print(datapoints)\n",
    "    aircraft_data[title] = data"
   ]
  },
  {
   "cell_type": "code",
   "execution_count": 10,
   "metadata": {},
   "outputs": [
    {
     "data": {
      "text/plain": [
       "{'AIRBUS A320CEO - (32N)': {'Seating capacity': '12 Business Class, 132 Guest Class',\n",
       "  'length': '123 ft (37.57 m)',\n",
       "  'Wingspan': '117 ft (35.80 m)',\n",
       "  'Cruising speed': '447 knots (511 mph, 828 km/h)',\n",
       "  'Maximum cruising altitude': '39,100-41,000 ft (11.900-12.500 m)',\n",
       "  'Range': '3,300 nautical miles (6,100 km)',\n",
       "  'Economy Class Accommodation (144 seats)': '132 seats',\n",
       "  'Economy Class Seat width/Pitch': '16.3 in - 18 in/ 30 in - 31 in',\n",
       "  'Economy Class ABREAST': '3-3',\n",
       "  'Economy Class Amenities': '',\n",
       "  'Business Class Accommodation (144 seats)': '12 seats',\n",
       "  'Business Class Seat width/Pitch': '21 in/ 45 in',\n",
       "  'Business Class ABREAST': '2-2',\n",
       "  'Business Class Amenities': ''},\n",
       " 'AIRBUS A320-214 (STANDARD CONFIGURATION) – (320)': {'Seating capacity': '12 Business Class, 120 Guest Class',\n",
       "  'length': '123 ft (37.57 m)',\n",
       "  'Wingspan': '112 ft (34.10 m)',\n",
       "  'Cruising speed': '447 knots (511 mph, 828 km/h)',\n",
       "  'Maximum cruising altitude': '36,100 ft (11,000 m)',\n",
       "  'Range': '3.200 nautical miles (5,900 km)',\n",
       "  'Economy Class Accommodation (132 seats)': '120 seats',\n",
       "  'Economy Class Seat width/Pitch': '17.17 in -18.33 in / 32 in -33 in',\n",
       "  'Economy Class ABREAST': '3-3',\n",
       "  'Economy Class Amenities': '',\n",
       "  'Business Class Accommodation (132 seats)': '12 seats',\n",
       "  'Business Class Seat width/Pitch': '21 in / 45 in',\n",
       "  'Business Class ABREAST': '2-2',\n",
       "  'Business Class Amenities': ''},\n",
       " 'AIRBUS A320-214 (BUSINESS CONFIGURATION) – (32E)': {'Seating capacity': '20 Business Class, 96 Guest Class',\n",
       "  'length': '123 ft (37.57 m)',\n",
       "  'Wingspan': '112 ft (34.10 m)',\n",
       "  'Cruising speed': '447 knots (511 mph, 828 km/h)',\n",
       "  'Maximum cruising altitude': '36,100 ft (11,000 m)',\n",
       "  'Range': '3,200 nautical miles (5,900 km)',\n",
       "  'Economy Class Accommodation (116 seats)': '96 seats',\n",
       "  'Economy Class Seat width/Pitch': '17.17 in - 18.33 in / 32 in',\n",
       "  'Economy Class ABREAST': '3-3',\n",
       "  'Economy Class Amenities': '',\n",
       "  'Business Class Accommodation (116 seats)': '20 seats',\n",
       "  'Business Class Seat width/Pitch': '21 in / 54 in',\n",
       "  'Business Class ABREAST': '2-2',\n",
       "  'Business Class Amenities': ''},\n",
       " 'AIRBUS A320CEO - (RETROFIT CONFIGURATION) – (32U)': {'Seating capacity': '20 Business Class, 90 Guest Class',\n",
       "  'length': '123 ft (37.57 m)',\n",
       "  'Wingspan': '112 ft (34.10 m)',\n",
       "  'Cruising speed': '447 knots (511 mph, 828 km/h)',\n",
       "  'Maximum cruising altitude': '36,100 ft (11.000 m)',\n",
       "  'Range': '3,200 nautical miles (5,900 km)',\n",
       "  'Economy Class Accommodation (110 seats)': '90 seats',\n",
       "  'Economy Class Seat width/Pitch': '16.3 in - 18 in/ 31 in',\n",
       "  'Economy Class ABREAST': '3-3',\n",
       "  'Economy Class Amenities': '',\n",
       "  'Business Class Accommodation (110 seats)': '20 seats',\n",
       "  'Business Class Seat width/Pitch': '20 in/ 63 in',\n",
       "  'Business Class ABREAST': '2-2',\n",
       "  'Business Class Amenities': ''}}"
      ]
     },
     "execution_count": 10,
     "metadata": {},
     "output_type": "execute_result"
    }
   ],
   "source": [
    "aircraft_data"
   ]
  },
  {
   "cell_type": "code",
   "execution_count": 11,
   "metadata": {},
   "outputs": [
    {
     "name": "stdout",
     "output_type": "stream",
     "text": [
      "<table class=\"full styled\" border=\"0\">\n",
      "<caption class=\"accessible-hide\">Seat Specifications AIRBUS A320CEO</caption>\n",
      "\n",
      "<thead>\n",
      "<tr class=\"bold header-color-1\">\n",
      "<th style=\" border-left: 0px; width: 191px;\">Seat Specifications</th>\n",
      "<th style=\" width: 196px;\">Economy Class</th>\n",
      "<th>Business Class</th>\n",
      "</tr>\n",
      "\n",
      "</thead><tbody>\n",
      "<tr>\n",
      "<td style=\" width: 191px;\"><strong>Accommodation (110 seats)</strong></td>\n",
      "<td style=\" width: 196px;\">90 seats</td>\n",
      "<td>20 seats</td>\n",
      "</tr>\n",
      "\n",
      "<tr>\n",
      "<td style=\" width: 191px;\"><strong>Seat width/Pitch</strong></td>\n",
      "<td style=\" width: 196px;\">16.3 in - 18 in/ 31 in</td>\n",
      "<td>20 in/ 63 in</td>\n",
      "</tr>\n",
      "\n",
      "<tr>\n",
      "<td style=\" width: 191px;\"><strong>ABREAST</strong></td>\n",
      "<td style=\" width: 196px;\">3-3</td>\n",
      "<td>2-2</td>\n",
      "</tr>\n",
      "\n",
      "<tr>\n",
      "<td style=\" width: 191px;\"><strong>Amenities</strong></td>\n",
      "<td style=\" width: 196px;\"><img alt=\"Wi-Fi\" title=\"Wi-Fi\" src=\"/SV_Content/images/Wi-Fi.png\" tabindex=\"0\"> <img alt=\"IFE Streaming\" title=\"IFE Streaming\" src=\"/SV_Content/images/IFE%20Streaming.png\" tabindex=\"0\"> <img alt=\"USB Port\" title=\"USB Port\" src=\"/SV_Content/images/USB%20Port.png\" tabindex=\"0\"> <img alt=\"Power Outlet\" title=\"Power Outlet\" src=\"/SV_Content/images/Power%20Outlet.png\" tabindex=\"0\"> <img alt=\"Overhead Screen\" title=\"Overhead Screen\" src=\"/SV_Content/images/Overhead%20Screen.png\" tabindex=\"0\"> </td>\n",
      "<td style=\" width: 196px;\"><img alt=\"Wi-Fi\" title=\"Wi-Fi\" src=\"/SV_Content/images/Wi-Fi.png\" tabindex=\"0\"> <img alt=\"IFE Streaming\" title=\"IFE Streaming\" src=\"/SV_Content/images/IFE%20Streaming.png\" tabindex=\"0\"> <img alt=\"USB Port\" title=\"USB Port\" src=\"/SV_Content/images/USB%20Port.png\" tabindex=\"0\"> <img alt=\"Power Outlet\" title=\"Power Outlet\" src=\"/SV_Content/images/Power%20Outlet.png\" tabindex=\"0\"> <img alt=\"Personal Screen\" title=\"Personal Screen\" src=\"/SV_Content/images/Personal%20Screen.png\" tabindex=\"0\"> </td>\n",
      "</tr>\n",
      "</tbody></table>\n"
     ]
    }
   ],
   "source": [
    "print(tables[2].extract())"
   ]
  },
  {
   "cell_type": "code",
   "execution_count": 12,
   "metadata": {},
   "outputs": [
    {
     "data": {
      "text/plain": [
       "['Seating capacity', 'length', 'Wingspan']"
      ]
     },
     "execution_count": 12,
     "metadata": {},
     "output_type": "execute_result"
    }
   ],
   "source": [
    "tables[0].xpath('.//th//text()').extract()"
   ]
  },
  {
   "cell_type": "code",
   "execution_count": 13,
   "metadata": {},
   "outputs": [
    {
     "data": {
      "text/plain": [
       "['20 Business Class, 90 Guest Class',\n",
       " '\\xa0\\xa0\\xa0\\xa0\\xa0\\xa0\\xa0\\xa0\\xa0123 ft (37.57 m) \\xa0\\xa0\\xa0\\xa0\\xa0\\xa0\\xa0\\xa0',\n",
       " '\\xa0\\xa0\\xa0\\xa0\\xa0\\xa0\\xa0\\xa0\\xa0\\xa0112 ft (34.10 m) \\xa0\\xa0\\xa0\\xa0\\xa0\\xa0\\xa0\\xa0\\xa0\\xa0\\xa0\\xa0\\xa0']"
      ]
     },
     "execution_count": 13,
     "metadata": {},
     "output_type": "execute_result"
    }
   ],
   "source": [
    "tds = []\n",
    "for sel in tables[0].xpath('./tbody//tr'):\n",
    "    tds.append(sel.xpath('.//td//text()'))\n",
    "tds[0].extract()"
   ]
  },
  {
   "cell_type": "code",
   "execution_count": null,
   "metadata": {},
   "outputs": [],
   "source": []
  }
 ],
 "metadata": {
  "kernelspec": {
   "display_name": "Python 3",
   "language": "python",
   "name": "python3"
  },
  "language_info": {
   "codemirror_mode": {
    "name": "ipython",
    "version": 3
   },
   "file_extension": ".py",
   "mimetype": "text/x-python",
   "name": "python",
   "nbconvert_exporter": "python",
   "pygments_lexer": "ipython3",
   "version": "3.6.8"
  }
 },
 "nbformat": 4,
 "nbformat_minor": 2
}
