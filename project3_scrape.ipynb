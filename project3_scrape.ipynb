{
 "cells": [
  {
   "cell_type": "code",
   "execution_count": 1,
   "metadata": {},
   "outputs": [],
   "source": [
    "# imports\n",
    "import re\n",
    "import requests\n",
    "import pandas as pd\n",
    "from scrapy import Selector"
   ]
  },
  {
   "cell_type": "code",
   "execution_count": 2,
   "metadata": {},
   "outputs": [
    {
     "data": {
      "text/plain": [
       "200"
      ]
     },
     "execution_count": 2,
     "metadata": {},
     "output_type": "execute_result"
    }
   ],
   "source": [
    "# get fleet info\n",
    "request = requests.get('https://www.saudia.com/experience/about-us/our-fleet')\n",
    "request.status_code"
   ]
  },
  {
   "cell_type": "code",
   "execution_count": 3,
   "metadata": {},
   "outputs": [],
   "source": [
    "# extract fleet page html\n",
    "html = request.text\n",
    "sel = Selector(text=html)"
   ]
  },
  {
   "cell_type": "code",
   "execution_count": 4,
   "metadata": {},
   "outputs": [],
   "source": [
    "# scrape aircraft names, totals, and links to detailed plane configuration data\n",
    "aircraft_names = sel.xpath('//table[@border=0]//td//a//text()[contains(.,\" \")]').extract()\n",
    "num_aircraft = [re.search(r'\\d+', sel).group() \n",
    "                for sel in sel.xpath('//table[@border=0]//td/text()[contains(.,\"Aircraft\")]').extract()]\n",
    "aircraft_links = sorted(['https://www.saudia.com' + sel\n",
    "                        for sel in set(sel.xpath('//table[@border=0]/tbody/tr/td//a/@href').extract())])\n",
    "\n",
    "fleet_data = {'aircraft_name': aircraft_names, 'number_in_fleet':num_aircraft,\n",
    "              'number_of_configurations':[], 'configurations_link':aircraft_links}"
   ]
  },
  {
   "cell_type": "code",
   "execution_count": 5,
   "metadata": {},
   "outputs": [
    {
     "data": {
      "text/plain": [
       "[200, 200, 200, 200, 200, 200]"
      ]
     },
     "execution_count": 5,
     "metadata": {},
     "output_type": "execute_result"
    }
   ],
   "source": [
    "# get configuration info for each plane from links\n",
    "request_list = [requests.get(link) for link in fleet_data['configurations_link']]\n",
    "[request.status_code for request in request_list]"
   ]
  },
  {
   "cell_type": "code",
   "execution_count": 6,
   "metadata": {},
   "outputs": [],
   "source": [
    "# get html text of each page\n",
    "html_list = [request.text for request in request_list]\n",
    "sel_list = [Selector(text=html) for html in html_list]"
   ]
  },
  {
   "cell_type": "code",
   "execution_count": 7,
   "metadata": {},
   "outputs": [],
   "source": [
    "# extract aircraft configuration names\n",
    "titles_list = [sel_list[i].xpath('//h3[@class=\"fs-1-3 vg-0--top\"]')[::3].xpath('.//text()').extract() if i < 5\n",
    "               else sel_list[i].xpath('//h2[@class=\"fs-1-5 vg-0--top\"]/text()[1]').extract() for i in range(len(sel_list))]\n",
    "for titles in titles_list:\n",
    "    fleet_data['number_of_configurations'].append(len(titles))"
   ]
  },
  {
   "cell_type": "code",
   "execution_count": 8,
   "metadata": {},
   "outputs": [],
   "source": [
    "# extract tables of interest (aircraft & seat specs) on each page\n",
    "tables_list = [sel.xpath('//table[@class=\"full styled\"]') for sel in sel_list]"
   ]
  },
  {
   "cell_type": "code",
   "execution_count": 9,
   "metadata": {},
   "outputs": [],
   "source": [
    "# split tables by aircraft configuration\n",
    "aircraft_tables_list = [{} for _ in tables_list]\n",
    "for plane_index in range(len(tables_list)):\n",
    "    for i in range(len(titles_list[plane_index])):\n",
    "        aircraft_tables_list[plane_index][titles_list[plane_index][i]] = tables_list[plane_index][i*3:(i*3)+3]"
   ]
  },
  {
   "cell_type": "code",
   "execution_count": 10,
   "metadata": {},
   "outputs": [],
   "source": [
    "# scrape configuration data for each aircraft in the fleet and capture it in a list of dicts\n",
    "aircraft_data_list = [{} for _ in aircraft_tables_list]\n",
    "for plane_index in range(len(aircraft_tables_list)):\n",
    "    for title in titles_list[plane_index]:\n",
    "        data = {}\n",
    "        tables = aircraft_tables_list[plane_index][title]\n",
    "        for table in tables:\n",
    "            table_title = table.xpath('./caption/text()').extract_first()\n",
    "            if \"Aircraft Specifications\" in table_title:\n",
    "                headers = table.xpath('.//th/text()').extract()\n",
    "                datapoints = table.xpath('.//td/text()').extract()\n",
    "                if (len(headers) < len(datapoints)):\n",
    "                    for extra_data in datapoints[len(headers):]:\n",
    "                        datapoints[len(headers)-1] += extra_data\n",
    "                    datapoints = datapoints[:len(headers)]\n",
    "                for i in range(len(headers)):\n",
    "                    data[headers[i]] = datapoints[i].strip()\n",
    "            else:\n",
    "                headers1 = table.xpath('.//th//text()').extract()[1:]\n",
    "                headers2 = []\n",
    "                datapoints = []\n",
    "                rows = table.xpath('./tbody//tr')\n",
    "                for row in rows:\n",
    "                    longheader = row.xpath('.//td//text()').extract_first()\n",
    "                    headers2.append(longheader)\n",
    "                    if longheader != 'Amenities':\n",
    "                        datapoints.append(row.xpath('.//td//text()')[1:].extract())\n",
    "                    else:\n",
    "                        amenities = []\n",
    "                        class_amens = row.xpath('.//td')[1:]\n",
    "                        for amens in class_amens:\n",
    "                            amenities.append(amens.xpath('.//img/@alt').extract())\n",
    "                        datapoints.append(amenities)\n",
    "\n",
    "                for i in range(len(headers1)):\n",
    "                    for j in range(len(headers2)):\n",
    "                        if headers2[j] != 'Amenities':\n",
    "                            if 'Accommodation' in headers2[j]:\n",
    "                                data[headers1[i]+\" Seats\"] = re.search(r'\\d+', datapoints[j][i]).group()\n",
    "                            elif 'Seat width/Pitch' in headers2[j]:\n",
    "                                width_pitch = datapoints[j][i]\n",
    "                                width = ''\n",
    "                                pitch = ''\n",
    "                                if '/' in width_pitch:\n",
    "                                    width_pitch = width_pitch.split('/')\n",
    "                                    width = width_pitch[0].strip()\n",
    "                                    pitch = width_pitch[1].strip()\n",
    "                                data[headers1[i]+\" Seat Width\"] = width\n",
    "                                data[headers1[i]+\" Seat Pitch\"] = pitch\n",
    "                            else:\n",
    "                                data[headers1[i]+\" \"+headers2[j]] = datapoints[j][i].strip()\n",
    "                        else:\n",
    "                            for amen in datapoints[j][i]:\n",
    "                                data[headers1[i]+\" has \"+amen] = True\n",
    "\n",
    "        aircraft_data_list[plane_index][title] = data"
   ]
  },
  {
   "cell_type": "code",
   "execution_count": 11,
   "metadata": {},
   "outputs": [
    {
     "data": {
      "text/html": [
       "<div>\n",
       "<style scoped>\n",
       "    .dataframe tbody tr th:only-of-type {\n",
       "        vertical-align: middle;\n",
       "    }\n",
       "\n",
       "    .dataframe tbody tr th {\n",
       "        vertical-align: top;\n",
       "    }\n",
       "\n",
       "    .dataframe thead th {\n",
       "        text-align: right;\n",
       "    }\n",
       "</style>\n",
       "<table border=\"1\" class=\"dataframe\">\n",
       "  <thead>\n",
       "    <tr style=\"text-align: right;\">\n",
       "      <th></th>\n",
       "      <th>aircraft_name</th>\n",
       "      <th>number_in_fleet</th>\n",
       "      <th>number_of_configurations</th>\n",
       "      <th>configurations_link</th>\n",
       "    </tr>\n",
       "  </thead>\n",
       "  <tbody>\n",
       "    <tr>\n",
       "      <th>0</th>\n",
       "      <td>Airbus A320-214</td>\n",
       "      <td>32</td>\n",
       "      <td>4</td>\n",
       "      <td>https://www.saudia.com/experience/about-us/our...</td>\n",
       "    </tr>\n",
       "    <tr>\n",
       "      <th>1</th>\n",
       "      <td>Airbus A321</td>\n",
       "      <td>15</td>\n",
       "      <td>1</td>\n",
       "      <td>https://www.saudia.com/experience/about-us/our...</td>\n",
       "    </tr>\n",
       "    <tr>\n",
       "      <th>2</th>\n",
       "      <td>Airbus A330-343</td>\n",
       "      <td>48</td>\n",
       "      <td>3</td>\n",
       "      <td>https://www.saudia.com/experience/about-us/our...</td>\n",
       "    </tr>\n",
       "    <tr>\n",
       "      <th>3</th>\n",
       "      <td>Boeing B777-268ER</td>\n",
       "      <td>13</td>\n",
       "      <td>2</td>\n",
       "      <td>https://www.saudia.com/experience/about-us/our...</td>\n",
       "    </tr>\n",
       "    <tr>\n",
       "      <th>4</th>\n",
       "      <td>Boeing B777-368ER</td>\n",
       "      <td>33</td>\n",
       "      <td>5</td>\n",
       "      <td>https://www.saudia.com/experience/about-us/our...</td>\n",
       "    </tr>\n",
       "    <tr>\n",
       "      <th>5</th>\n",
       "      <td>Boeing B787-9</td>\n",
       "      <td>7</td>\n",
       "      <td>1</td>\n",
       "      <td>https://www.saudia.com/experience/about-us/our...</td>\n",
       "    </tr>\n",
       "  </tbody>\n",
       "</table>\n",
       "</div>"
      ],
      "text/plain": [
       "       aircraft_name number_in_fleet  number_of_configurations  \\\n",
       "0    Airbus A320-214              32                         4   \n",
       "1        Airbus A321              15                         1   \n",
       "2    Airbus A330-343              48                         3   \n",
       "3  Boeing B777-268ER              13                         2   \n",
       "4  Boeing B777-368ER              33                         5   \n",
       "5      Boeing B787-9               7                         1   \n",
       "\n",
       "                                 configurations_link  \n",
       "0  https://www.saudia.com/experience/about-us/our...  \n",
       "1  https://www.saudia.com/experience/about-us/our...  \n",
       "2  https://www.saudia.com/experience/about-us/our...  \n",
       "3  https://www.saudia.com/experience/about-us/our...  \n",
       "4  https://www.saudia.com/experience/about-us/our...  \n",
       "5  https://www.saudia.com/experience/about-us/our...  "
      ]
     },
     "execution_count": 11,
     "metadata": {},
     "output_type": "execute_result"
    }
   ],
   "source": [
    "# save fleet level data as a dataframe and export it to a csv\n",
    "fleet_df = pd.DataFrame(fleet_data)\n",
    "fleet_df.to_csv('./datasets/saudia_fleet_data.csv', index=False)\n",
    "fleet_df"
   ]
  },
  {
   "cell_type": "code",
   "execution_count": 12,
   "metadata": {},
   "outputs": [],
   "source": [
    "# convert each aircrafts data into a dataframe and export each to a csv\n",
    "for i in range(len(aircraft_names)):\n",
    "    df = pd.DataFrame(aircraft_data_list[i]).T\n",
    "    df.columns = df.columns.map(lambda x: x.lower().replace(' ', '_'))\n",
    "    df.index.name = 'configuration_name'\n",
    "    df['aircraft_name'] = fleet_df.aircraft_name[i]\n",
    "    df = df[df.columns[::-1]]\n",
    "    df.reset_index(inplace=True)\n",
    "    for column in df.columns:\n",
    "        if True in df[column].values:\n",
    "            df[column].fillna(False, inplace=True)\n",
    "        else:\n",
    "            df[column].fillna('class not offered', inplace=True)\n",
    "    df.to_csv(aircraft_names[i]+'.csv', index=False)"
   ]
  }
 ],
 "metadata": {
  "kernelspec": {
   "display_name": "Python 3",
   "language": "python",
   "name": "python3"
  },
  "language_info": {
   "codemirror_mode": {
    "name": "ipython",
    "version": 3
   },
   "file_extension": ".py",
   "mimetype": "text/x-python",
   "name": "python",
   "nbconvert_exporter": "python",
   "pygments_lexer": "ipython3",
   "version": "3.6.8"
  }
 },
 "nbformat": 4,
 "nbformat_minor": 2
}
